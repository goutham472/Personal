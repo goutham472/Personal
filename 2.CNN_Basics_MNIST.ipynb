{
 "cells": [
  {
   "cell_type": "markdown",
   "metadata": {
    "colab_type": "text",
    "id": "oVEReyyDtZxl"
   },
   "source": [
    "# CNN\n"
   ]
  },
  {
   "cell_type": "code",
   "execution_count": 1,
   "metadata": {
    "colab": {
     "base_uri": "https://localhost:8080/",
     "height": 35
    },
    "colab_type": "code",
    "executionInfo": {
     "elapsed": 3555,
     "status": "ok",
     "timestamp": 1559994547399,
     "user": {
      "displayName": "Srinivas Atreya",
      "photoUrl": "",
      "userId": "12577948634138863513"
     },
     "user_tz": -330
    },
    "id": "K0cQhGAxl_qs",
    "outputId": "a9737690-a94c-4f4d-e175-6056eb800bf4"
   },
   "outputs": [
    {
     "name": "stderr",
     "output_type": "stream",
     "text": [
      "Using TensorFlow backend.\n"
     ]
    }
   ],
   "source": [
    "from __future__ import absolute_import, division, print_function\n",
    "import numpy as np\n",
    "import keras\n",
    "from keras.datasets import cifar10, mnist\n",
    "from keras.models import Sequential\n",
    "from keras.layers import Dense, Activation, Dropout, Flatten, Reshape\n",
    "from keras.layers import Convolution2D, MaxPooling2D\n",
    "from keras.utils import np_utils\n",
    "import pickle\n",
    "from matplotlib import pyplot as plt\n",
    "import seaborn as sns\n",
    "plt.rcParams['figure.figsize'] = (15, 8)"
   ]
  },
  {
   "cell_type": "code",
   "execution_count": 2,
   "metadata": {
    "colab": {
     "base_uri": "https://localhost:8080/",
     "height": 128
    },
    "colab_type": "code",
    "executionInfo": {
     "elapsed": 73795,
     "status": "ok",
     "timestamp": 1559994630798,
     "user": {
      "displayName": "Srinivas Atreya",
      "photoUrl": "",
      "userId": "12577948634138863513"
     },
     "user_tz": -330
    },
    "id": "QKTF0G1tpqHX",
    "outputId": "876f523e-c2ad-4be8-bd09-1d8e1f9d6a9e"
   },
   "outputs": [
    {
     "name": "stdout",
     "output_type": "stream",
     "text": [
      "Go to this URL in a browser: https://accounts.google.com/o/oauth2/auth?client_id=947318989803-6bn6qk8qdgf4n4g3pfee6491hc0brc4i.apps.googleusercontent.com&redirect_uri=urn%3Aietf%3Awg%3Aoauth%3A2.0%3Aoob&scope=email%20https%3A%2F%2Fwww.googleapis.com%2Fauth%2Fdocs.test%20https%3A%2F%2Fwww.googleapis.com%2Fauth%2Fdrive%20https%3A%2F%2Fwww.googleapis.com%2Fauth%2Fdrive.photos.readonly%20https%3A%2F%2Fwww.googleapis.com%2Fauth%2Fpeopleapi.readonly&response_type=code\n",
      "\n",
      "Enter your authorization code:\n",
      "··········\n",
      "Mounted at /drive\n"
     ]
    }
   ],
   "source": [
    "from google.colab import drive\n",
    "drive.mount('/drive')"
   ]
  },
  {
   "cell_type": "markdown",
   "metadata": {
    "colab_type": "text",
    "id": "4MO0jk-XuVIJ"
   },
   "source": [
    "# MNIST"
   ]
  },
  {
   "cell_type": "code",
   "execution_count": 3,
   "metadata": {
    "colab": {
     "base_uri": "https://localhost:8080/",
     "height": 126
    },
    "colab_type": "code",
    "executionInfo": {
     "elapsed": 1913,
     "status": "ok",
     "timestamp": 1559995239919,
     "user": {
      "displayName": "Srinivas Atreya",
      "photoUrl": "",
      "userId": "12577948634138863513"
     },
     "user_tz": -330
    },
    "id": "fpGB4hjTof55",
    "outputId": "fe05c333-b494-44b5-9f31-7b89fda11cce"
   },
   "outputs": [
    {
     "name": "stdout",
     "output_type": "stream",
     "text": [
      "Downloading data from https://s3.amazonaws.com/img-datasets/mnist.npz\n",
      "11493376/11490434 [==============================] - 0s 0us/step\n",
      "--- THE DATA ---\n",
      "x_train shape: (60000, 28, 28, 1)\n",
      "60000 train samples\n",
      "10000 test samples\n"
     ]
    }
   ],
   "source": [
    "%matplotlib inline\n",
    "# Load/Prep the Data\n",
    "(x_train, y_train_num), (x_test, y_test_num) = mnist.load_data()\n",
    "x_train = x_train.reshape(x_train.shape[0], 28, 28, 1).astype('float32')\n",
    "x_test = x_test.reshape(x_test.shape[0], 28, 28, 1).astype('float32')\n",
    "x_train /= 255\n",
    "x_test /= 255\n",
    "y_train = np_utils.to_categorical(y_train_num, 10)\n",
    "y_test = np_utils.to_categorical(y_test_num, 10)\n",
    "\n",
    "print('--- THE DATA ---')\n",
    "print('x_train shape:', x_train.shape)\n",
    "print(x_train.shape[0], 'train samples')\n",
    "print(x_test.shape[0], 'test samples')"
   ]
  },
  {
   "cell_type": "code",
   "execution_count": 4,
   "metadata": {
    "colab": {
     "base_uri": "https://localhost:8080/",
     "height": 35
    },
    "colab_type": "code",
    "executionInfo": {
     "elapsed": 1355,
     "status": "ok",
     "timestamp": 1559995268961,
     "user": {
      "displayName": "Srinivas Atreya",
      "photoUrl": "",
      "userId": "12577948634138863513"
     },
     "user_tz": -330
    },
    "id": "MPoPtByINyrA",
    "outputId": "790dbe55-d895-4d63-e768-1c9063b7f476"
   },
   "outputs": [
    {
     "data": {
      "text/plain": [
       "(60000, 10)"
      ]
     },
     "execution_count": 4,
     "metadata": {
      "tags": []
     },
     "output_type": "execute_result"
    }
   ],
   "source": [
    "y_train.shape"
   ]
  },
  {
   "cell_type": "markdown",
   "metadata": {
    "colab_type": "text",
    "id": "erfoPAKnu1bw"
   },
   "source": [
    "##DNN"
   ]
  },
  {
   "cell_type": "code",
   "execution_count": 0,
   "metadata": {
    "colab": {},
    "colab_type": "code",
    "id": "f1su9BsaMpGI"
   },
   "outputs": [],
   "source": [
    "TRAIN = False\n",
    "BATCH_SIZE = 32\n",
    "EPOCHS = 10"
   ]
  },
  {
   "cell_type": "code",
   "execution_count": 6,
   "metadata": {
    "colab": {
     "base_uri": "https://localhost:8080/",
     "height": 637
    },
    "colab_type": "code",
    "executionInfo": {
     "elapsed": 63497,
     "status": "ok",
     "timestamp": 1559995685058,
     "user": {
      "displayName": "Srinivas Atreya",
      "photoUrl": "",
      "userId": "12577948634138863513"
     },
     "user_tz": -330
    },
    "id": "PXfm1xpmp9Kd",
    "outputId": "5b1156c5-6c06-4c87-8b86-64b1dd102f5f"
   },
   "outputs": [
    {
     "name": "stdout",
     "output_type": "stream",
     "text": [
      "WARNING:tensorflow:From /usr/local/lib/python3.6/dist-packages/tensorflow/python/framework/op_def_library.py:263: colocate_with (from tensorflow.python.framework.ops) is deprecated and will be removed in a future version.\n",
      "Instructions for updating:\n",
      "Colocations handled automatically by placer.\n",
      "WARNING:tensorflow:From /usr/local/lib/python3.6/dist-packages/tensorflow/python/ops/math_ops.py:3066: to_int32 (from tensorflow.python.ops.math_ops) is deprecated and will be removed in a future version.\n",
      "Instructions for updating:\n",
      "Use tf.cast instead.\n"
     ]
    },
    {
     "name": "stderr",
     "output_type": "stream",
     "text": [
      "/usr/local/lib/python3.6/dist-packages/ipykernel_launcher.py:7: UserWarning: Update your `Dense` call to the Keras 2 API: `Dense(units=128, kernel_initializer=\"he_normal\", use_bias=True)`\n",
      "  import sys\n",
      "/usr/local/lib/python3.6/dist-packages/ipykernel_launcher.py:11: UserWarning: Update your `Dense` call to the Keras 2 API: `Dense(units=10, kernel_initializer=\"he_normal\", use_bias=True)`\n",
      "  # This is added back by InteractiveShellApp.init_path()\n",
      "/usr/local/lib/python3.6/dist-packages/ipykernel_launcher.py:23: UserWarning: The `nb_epoch` argument in `fit` has been renamed `epochs`.\n"
     ]
    },
    {
     "name": "stdout",
     "output_type": "stream",
     "text": [
      "Train on 60000 samples, validate on 10000 samples\n",
      "Epoch 1/10\n",
      "60000/60000 [==============================] - 9s 148us/step - loss: 0.2592 - acc: 0.9258 - val_loss: 0.1402 - val_acc: 0.9572\n",
      "Epoch 2/10\n",
      "60000/60000 [==============================] - 6s 98us/step - loss: 0.1144 - acc: 0.9667 - val_loss: 0.0948 - val_acc: 0.9729\n",
      "Epoch 3/10\n",
      "60000/60000 [==============================] - 6s 98us/step - loss: 0.0796 - acc: 0.9756 - val_loss: 0.0919 - val_acc: 0.9727\n",
      "Epoch 4/10\n",
      "60000/60000 [==============================] - 6s 98us/step - loss: 0.0591 - acc: 0.9816 - val_loss: 0.0842 - val_acc: 0.9757\n",
      "Epoch 5/10\n",
      "60000/60000 [==============================] - 6s 98us/step - loss: 0.0454 - acc: 0.9859 - val_loss: 0.0773 - val_acc: 0.9772\n",
      "Epoch 6/10\n",
      "60000/60000 [==============================] - 6s 99us/step - loss: 0.0359 - acc: 0.9889 - val_loss: 0.0747 - val_acc: 0.9768\n",
      "Epoch 7/10\n",
      "60000/60000 [==============================] - 6s 98us/step - loss: 0.0287 - acc: 0.9912 - val_loss: 0.0850 - val_acc: 0.9765\n",
      "Epoch 8/10\n",
      "60000/60000 [==============================] - 6s 98us/step - loss: 0.0238 - acc: 0.9924 - val_loss: 0.0825 - val_acc: 0.9780\n",
      "Epoch 9/10\n",
      "60000/60000 [==============================] - 6s 98us/step - loss: 0.0191 - acc: 0.9943 - val_loss: 0.0777 - val_acc: 0.9786\n",
      "Epoch 10/10\n",
      "60000/60000 [==============================] - 6s 99us/step - loss: 0.0152 - acc: 0.9949 - val_loss: 0.0875 - val_acc: 0.9763\n"
     ]
    },
    {
     "data": {
      "text/plain": [
       "<keras.callbacks.History at 0x7f747c16a2e8>"
      ]
     },
     "execution_count": 6,
     "metadata": {
      "tags": []
     },
     "output_type": "execute_result"
    }
   ],
   "source": [
    "    # Define the Type of Model\n",
    "    model1 = Sequential()\n",
    "\n",
    "    # Flatten Imgaes to Vector\n",
    "    model1.add(Reshape((784,), input_shape=(28, 28, 1)))\n",
    "\n",
    "    # Layer 1\n",
    "    model1.add(Dense(output_dim=128, init='he_normal', bias=True))\n",
    "    model1.add(Activation(\"relu\"))\n",
    "\n",
    "    # Layer 2\n",
    "    model1.add(Dense(output_dim=10, init='he_normal', bias=True))\n",
    "    model1.add(Activation(\"softmax\"))\n",
    "\n",
    "    # Loss and Optimizer\n",
    "    model1.compile(loss='categorical_crossentropy', optimizer='adam', metrics=['accuracy'])\n",
    "\n",
    "    # Store Training Results\n",
    "    early_stopping = keras.callbacks.EarlyStopping(monitor='val_acc', patience=10, verbose=1, mode='auto')\n",
    "    callback_list = [early_stopping]# [stats, early_stopping]\n",
    "\n",
    "    # Train the model\n",
    "    model1.fit(x_train, y_train, nb_epoch=EPOCHS, batch_size=BATCH_SIZE,\n",
    "              validation_data=(x_test, y_test), callbacks=callback_list, verbose=True)\n",
    "    \n"
   ]
  },
  {
   "cell_type": "code",
   "execution_count": 7,
   "metadata": {
    "colab": {
     "base_uri": "https://localhost:8080/",
     "height": 54
    },
    "colab_type": "code",
    "executionInfo": {
     "elapsed": 1352,
     "status": "ok",
     "timestamp": 1559995831670,
     "user": {
      "displayName": "Srinivas Atreya",
      "photoUrl": "",
      "userId": "12577948634138863513"
     },
     "user_tz": -330
    },
    "id": "cRbEC7UktxyX",
    "outputId": "74a909e6-e952-4a50-8ee2-6e9080cb44a3"
   },
   "outputs": [
    {
     "name": "stdout",
     "output_type": "stream",
     "text": [
      "10000/10000 [==============================] - 0s 34us/step\n",
      "[0.08748423938479682, 0.9763]\n"
     ]
    }
   ],
   "source": [
    "loss_and_metrics = model1.evaluate(x_test, y_test)\n",
    "print(loss_and_metrics)\n"
   ]
  },
  {
   "cell_type": "markdown",
   "metadata": {
    "colab_type": "text",
    "id": "_ojlt4qYvCmx"
   },
   "source": [
    "## Vanilla CNN"
   ]
  },
  {
   "cell_type": "code",
   "execution_count": 0,
   "metadata": {
    "colab": {},
    "colab_type": "code",
    "id": "py3GWN2kUfys"
   },
   "outputs": [],
   "source": [
    "TRAIN = False\n",
    "BATCH_SIZE = 32\n",
    "EPOCHS = 10"
   ]
  },
  {
   "cell_type": "code",
   "execution_count": 9,
   "metadata": {
    "colab": {
     "base_uri": "https://localhost:8080/",
     "height": 528
    },
    "colab_type": "code",
    "executionInfo": {
     "elapsed": 112096,
     "status": "ok",
     "timestamp": 1559996317374,
     "user": {
      "displayName": "Srinivas Atreya",
      "photoUrl": "",
      "userId": "12577948634138863513"
     },
     "user_tz": -330
    },
    "id": "gVAkTinRLBDp",
    "outputId": "3ad8c7c9-0d0a-45ae-92fd-24173c028bd8"
   },
   "outputs": [
    {
     "name": "stderr",
     "output_type": "stream",
     "text": [
      "/usr/local/lib/python3.6/dist-packages/ipykernel_launcher.py:4: UserWarning: Update your `Conv2D` call to the Keras 2 API: `Conv2D(32, (3, 3), input_shape=(28, 28, 1...)`\n",
      "  after removing the cwd from sys.path.\n",
      "/usr/local/lib/python3.6/dist-packages/ipykernel_launcher.py:8: UserWarning: Update your `Conv2D` call to the Keras 2 API: `Conv2D(32, (3, 3))`\n",
      "  \n",
      "/usr/local/lib/python3.6/dist-packages/ipykernel_launcher.py:29: UserWarning: The `nb_epoch` argument in `fit` has been renamed `epochs`.\n"
     ]
    },
    {
     "name": "stdout",
     "output_type": "stream",
     "text": [
      "Train on 60000 samples, validate on 10000 samples\n",
      "Epoch 1/10\n",
      "60000/60000 [==============================] - 14s 233us/step - loss: 0.1145 - acc: 0.9645 - val_loss: 0.0464 - val_acc: 0.9848\n",
      "Epoch 2/10\n",
      "60000/60000 [==============================] - 11s 178us/step - loss: 0.0375 - acc: 0.9884 - val_loss: 0.0374 - val_acc: 0.9875\n",
      "Epoch 3/10\n",
      "60000/60000 [==============================] - 11s 179us/step - loss: 0.0227 - acc: 0.9928 - val_loss: 0.0408 - val_acc: 0.9873\n",
      "Epoch 4/10\n",
      "60000/60000 [==============================] - 11s 178us/step - loss: 0.0154 - acc: 0.9948 - val_loss: 0.0470 - val_acc: 0.9866\n",
      "Epoch 5/10\n",
      "60000/60000 [==============================] - 11s 178us/step - loss: 0.0114 - acc: 0.9962 - val_loss: 0.0483 - val_acc: 0.9865\n",
      "Epoch 6/10\n",
      "60000/60000 [==============================] - 11s 185us/step - loss: 0.0080 - acc: 0.9973 - val_loss: 0.0405 - val_acc: 0.9893\n",
      "Epoch 7/10\n",
      "60000/60000 [==============================] - 11s 179us/step - loss: 0.0064 - acc: 0.9980 - val_loss: 0.0593 - val_acc: 0.9878\n",
      "Epoch 8/10\n",
      "60000/60000 [==============================] - 11s 178us/step - loss: 0.0057 - acc: 0.9982 - val_loss: 0.0738 - val_acc: 0.9869\n",
      "Epoch 9/10\n",
      "60000/60000 [==============================] - 11s 179us/step - loss: 0.0064 - acc: 0.9979 - val_loss: 0.0844 - val_acc: 0.9851\n",
      "Epoch 10/10\n",
      "60000/60000 [==============================] - 11s 178us/step - loss: 0.0062 - acc: 0.9982 - val_loss: 0.0611 - val_acc: 0.9881\n"
     ]
    },
    {
     "data": {
      "text/plain": [
       "<keras.callbacks.History at 0x7f747052fdd8>"
      ]
     },
     "execution_count": 9,
     "metadata": {
      "tags": []
     },
     "output_type": "execute_result"
    }
   ],
   "source": [
    "\n",
    "    # Define model\n",
    "    model2 = Sequential()\n",
    "\n",
    "    # 1st Conv Layer\n",
    "    model2.add(Convolution2D(32, 3, 3, input_shape=(28, 28, 1)))\n",
    "    model2.add(Activation('relu'))\n",
    "\n",
    "    # 2nd Conv Layer\n",
    "    model2.add(Convolution2D(32, 3, 3))\n",
    "    model2.add(Activation('relu'))\n",
    "\n",
    "    # Fully Connected Layer\n",
    "    model2.add(Flatten())\n",
    "    model2.add(Dense(128))\n",
    "    model2.add(Activation('relu'))\n",
    "\n",
    "    # Prediction Layer\n",
    "    model2.add(Dense(10))\n",
    "    model2.add(Activation('softmax'))\n",
    "\n",
    "    # Loss and Optimizer\n",
    "    model2.compile(loss='categorical_crossentropy', optimizer='adam', metrics=['accuracy'])\n",
    "    \n",
    "    # Store Training Results\n",
    "    early_stopping = keras.callbacks.EarlyStopping(monitor='val_acc', patience=10, verbose=1, mode='auto')\n",
    "    callback_list = [early_stopping]\n",
    "\n",
    "    # Train the model2\n",
    "    model2.fit(x_train, y_train, batch_size=BATCH_SIZE, nb_epoch=EPOCHS, \n",
    "              validation_data=(x_test, y_test), callbacks=callback_list)\n",
    "    \n",
    "\n"
   ]
  },
  {
   "cell_type": "code",
   "execution_count": 10,
   "metadata": {
    "colab": {
     "base_uri": "https://localhost:8080/",
     "height": 54
    },
    "colab_type": "code",
    "executionInfo": {
     "elapsed": 1385,
     "status": "ok",
     "timestamp": 1559996736016,
     "user": {
      "displayName": "Srinivas Atreya",
      "photoUrl": "",
      "userId": "12577948634138863513"
     },
     "user_tz": -330
    },
    "id": "lnwqJ15yULf8",
    "outputId": "9288803a-c603-4d73-b1ea-9eb54bf50200"
   },
   "outputs": [
    {
     "name": "stdout",
     "output_type": "stream",
     "text": [
      "10000/10000 [==============================] - 1s 53us/step\n",
      "[0.06105685576070309, 0.9881]\n"
     ]
    }
   ],
   "source": [
    "loss_and_metrics = model2.evaluate(x_test, y_test)\n",
    "print(loss_and_metrics)"
   ]
  },
  {
   "cell_type": "markdown",
   "metadata": {
    "colab_type": "text",
    "id": "-dqbAnSdvITA"
   },
   "source": [
    "## Vanilla CNN + Pooling + Dropout"
   ]
  },
  {
   "cell_type": "code",
   "execution_count": 0,
   "metadata": {
    "colab": {},
    "colab_type": "code",
    "id": "jmWB_HYiXQpk"
   },
   "outputs": [],
   "source": [
    "\n",
    "BATCH_SIZE = 32\n",
    "EPOCHS = 10"
   ]
  },
  {
   "cell_type": "code",
   "execution_count": 11,
   "metadata": {
    "colab": {
     "base_uri": "https://localhost:8080/",
     "height": 583
    },
    "colab_type": "code",
    "executionInfo": {
     "elapsed": 96663,
     "status": "ok",
     "timestamp": 1559997015704,
     "user": {
      "displayName": "Srinivas Atreya",
      "photoUrl": "",
      "userId": "12577948634138863513"
     },
     "user_tz": -330
    },
    "id": "tMnK0A84VqZc",
    "outputId": "23fdab1f-25c9-4089-c7f6-d92158f4103c"
   },
   "outputs": [
    {
     "name": "stdout",
     "output_type": "stream",
     "text": [
      "WARNING:tensorflow:From /usr/local/lib/python3.6/dist-packages/keras/backend/tensorflow_backend.py:3445: calling dropout (from tensorflow.python.ops.nn_ops) with keep_prob is deprecated and will be removed in a future version.\n",
      "Instructions for updating:\n",
      "Please use `rate` instead of `keep_prob`. Rate should be set to `rate = 1 - keep_prob`.\n"
     ]
    },
    {
     "name": "stderr",
     "output_type": "stream",
     "text": [
      "/usr/local/lib/python3.6/dist-packages/ipykernel_launcher.py:4: UserWarning: Update your `Conv2D` call to the Keras 2 API: `Conv2D(32, (3, 3), input_shape=(28, 28, 1...)`\n",
      "  after removing the cwd from sys.path.\n",
      "/usr/local/lib/python3.6/dist-packages/ipykernel_launcher.py:8: UserWarning: Update your `Conv2D` call to the Keras 2 API: `Conv2D(32, (3, 3))`\n",
      "  \n",
      "/usr/local/lib/python3.6/dist-packages/ipykernel_launcher.py:38: UserWarning: The `nb_epoch` argument in `fit` has been renamed `epochs`.\n"
     ]
    },
    {
     "name": "stdout",
     "output_type": "stream",
     "text": [
      "Train on 60000 samples, validate on 10000 samples\n",
      "Epoch 1/10\n",
      "60000/60000 [==============================] - 10s 164us/step - loss: 0.2097 - acc: 0.9356 - val_loss: 0.0498 - val_acc: 0.9840\n",
      "Epoch 2/10\n",
      "60000/60000 [==============================] - 9s 157us/step - loss: 0.0864 - acc: 0.9745 - val_loss: 0.0388 - val_acc: 0.9874\n",
      "Epoch 3/10\n",
      "60000/60000 [==============================] - 9s 158us/step - loss: 0.0680 - acc: 0.9793 - val_loss: 0.0315 - val_acc: 0.9882\n",
      "Epoch 4/10\n",
      "60000/60000 [==============================] - 9s 157us/step - loss: 0.0550 - acc: 0.9832 - val_loss: 0.0282 - val_acc: 0.9904\n",
      "Epoch 5/10\n",
      "60000/60000 [==============================] - 9s 157us/step - loss: 0.0482 - acc: 0.9849 - val_loss: 0.0279 - val_acc: 0.9904\n",
      "Epoch 6/10\n",
      "60000/60000 [==============================] - 9s 157us/step - loss: 0.0431 - acc: 0.9863 - val_loss: 0.0287 - val_acc: 0.9909\n",
      "Epoch 7/10\n",
      "60000/60000 [==============================] - 9s 157us/step - loss: 0.0374 - acc: 0.9881 - val_loss: 0.0277 - val_acc: 0.9917\n",
      "Epoch 8/10\n",
      "60000/60000 [==============================] - 10s 160us/step - loss: 0.0346 - acc: 0.9889 - val_loss: 0.0258 - val_acc: 0.9923\n",
      "Epoch 9/10\n",
      "60000/60000 [==============================] - 10s 159us/step - loss: 0.0321 - acc: 0.9898 - val_loss: 0.0259 - val_acc: 0.9915\n",
      "Epoch 10/10\n",
      "60000/60000 [==============================] - 10s 162us/step - loss: 0.0291 - acc: 0.9905 - val_loss: 0.0255 - val_acc: 0.9923\n"
     ]
    },
    {
     "data": {
      "text/plain": [
       "<keras.callbacks.History at 0x7f745e7a06a0>"
      ]
     },
     "execution_count": 11,
     "metadata": {
      "tags": []
     },
     "output_type": "execute_result"
    }
   ],
   "source": [
    "\n",
    "    # Define Model\n",
    "    model3 = Sequential()\n",
    "\n",
    "    # 1st Conv Layer\n",
    "    model3.add(Convolution2D(32, 3, 3, input_shape=(28, 28, 1)))\n",
    "    model3.add(Activation('relu'))\n",
    "\n",
    "    # 2nd Conv Layer\n",
    "    model3.add(Convolution2D(32, 3, 3))\n",
    "    model3.add(Activation('relu'))\n",
    "\n",
    "    # Max Pooling\n",
    "    model3.add(MaxPooling2D(pool_size=(2,2)))\n",
    "    \n",
    "    # Dropout\n",
    "    model3.add(Dropout(0.25))\n",
    "\n",
    "    # Fully Connected Layer\n",
    "    model3.add(Flatten())\n",
    "    model3.add(Dense(128))\n",
    "    model3.add(Activation('relu'))\n",
    "    \n",
    "    # More Dropout\n",
    "    model3.add(Dropout(0.5))\n",
    "\n",
    "    # Prediction Layer\n",
    "    model3.add(Dense(10))\n",
    "    model3.add(Activation('softmax'))\n",
    "\n",
    "    # Loss and Optimizer\n",
    "    model3.compile(loss='categorical_crossentropy', optimizer='adam', metrics=['accuracy'])\n",
    "    \n",
    "    # Store Training Results\n",
    "    early_stopping = keras.callbacks.EarlyStopping(monitor='val_acc', patience=7, verbose=1, mode='auto')\n",
    "    callback_list = [early_stopping]\n",
    "\n",
    "    # Train the model\n",
    "    model3.fit(x_train, y_train, batch_size=BATCH_SIZE, nb_epoch=EPOCHS, \n",
    "              validation_data=(x_test, y_test), callbacks=callback_list)\n",
    "    \n"
   ]
  },
  {
   "cell_type": "code",
   "execution_count": 12,
   "metadata": {
    "colab": {
     "base_uri": "https://localhost:8080/",
     "height": 54
    },
    "colab_type": "code",
    "executionInfo": {
     "elapsed": 1880,
     "status": "ok",
     "timestamp": 1559997083781,
     "user": {
      "displayName": "Srinivas Atreya",
      "photoUrl": "",
      "userId": "12577948634138863513"
     },
     "user_tz": -330
    },
    "id": "xCP8O8OuXurL",
    "outputId": "6ac813a3-bd21-48e9-a68b-edf4d316081a"
   },
   "outputs": [
    {
     "name": "stdout",
     "output_type": "stream",
     "text": [
      "10000/10000 [==============================] - 1s 53us/step\n",
      "[0.025547506572169733, 0.9923]\n"
     ]
    }
   ],
   "source": [
    "loss_and_metrics = model3.evaluate(x_test, y_test)\n",
    "print(loss_and_metrics)"
   ]
  }
 ],
 "metadata": {
  "accelerator": "GPU",
  "colab": {
   "collapsed_sections": [],
   "name": "2.CNN_Basics_MNIST.ipynb",
   "provenance": [],
   "version": "0.3.2"
  },
  "kernelspec": {
   "display_name": "Python 3",
   "language": "python",
   "name": "python3"
  },
  "language_info": {
   "codemirror_mode": {
    "name": "ipython",
    "version": 3
   },
   "file_extension": ".py",
   "mimetype": "text/x-python",
   "name": "python",
   "nbconvert_exporter": "python",
   "pygments_lexer": "ipython3",
   "version": "3.7.3"
  }
 },
 "nbformat": 4,
 "nbformat_minor": 1
}
